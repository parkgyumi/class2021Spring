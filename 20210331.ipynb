{
  "nbformat": 4,
  "nbformat_minor": 0,
  "metadata": {
    "colab": {
      "name": "Untitled9.ipynb",
      "provenance": [],
      "authorship_tag": "ABX9TyPNDviWasmnp24D7xssHOeV",
      "include_colab_link": true
    },
    "kernelspec": {
      "name": "python3",
      "display_name": "Python 3"
    },
    "language_info": {
      "name": "python"
    }
  },
  "cells": [
    {
      "cell_type": "markdown",
      "metadata": {
        "id": "view-in-github",
        "colab_type": "text"
      },
      "source": [
        "<a href=\"https://colab.research.google.com/github/parkgyumi/class2021Spring/blob/main/20210331.ipynb\" target=\"_parent\"><img src=\"https://colab.research.google.com/assets/colab-badge.svg\" alt=\"Open In Colab\"/></a>"
      ]
    },
    {
      "cell_type": "markdown",
      "metadata": {
        "id": "1cPgoWshHWhc"
      },
      "source": [
        "# a\n",
        "\n",
        "pitch 199.1 Hz\n",
        "\n",
        "intensity 71.05 dB\n",
        "\n",
        "formant 1111 Hz, 1481 Hz\n",
        "\n",
        "duration 0.352 sec\n",
        "\n",
        "# ae\n",
        "\n",
        "pitch 225.6 Hz\n",
        "\n",
        "intensity 71.78 dB\n",
        "\n",
        "formant 502.7 Hz, 2326 Hz\n",
        "\n",
        "duration 0.392 sec\n"
      ]
    }
  ]
}