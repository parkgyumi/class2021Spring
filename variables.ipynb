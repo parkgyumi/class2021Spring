{
  "nbformat": 4,
  "nbformat_minor": 0,
  "metadata": {
    "colab": {
      "name": "Untitled3.ipynb",
      "provenance": [],
      "authorship_tag": "ABX9TyO5LJsvqCv1m1C8Z7eDealR",
      "include_colab_link": true
    },
    "kernelspec": {
      "name": "python3",
      "display_name": "Python 3"
    }
  },
  "cells": [
    {
      "cell_type": "markdown",
      "metadata": {
        "id": "view-in-github",
        "colab_type": "text"
      },
      "source": [
        "<a href=\"https://colab.research.google.com/github/parkgyumi/class2021Spring/blob/main/variables.ipynb\" target=\"_parent\"><img src=\"https://colab.research.google.com/assets/colab-badge.svg\" alt=\"Open In Colab\"/></a>"
      ]
    },
    {
      "cell_type": "code",
      "metadata": {
        "id": "goAyoU7vRheI",
        "colab": {
          "base_uri": "https://localhost:8080/"
        },
        "outputId": "3b1b9870-4755-419a-913a-836a19bbf009"
      },
      "source": [
        "a = 3; print(type(a))"
      ],
      "execution_count": 1,
      "outputs": [
        {
          "output_type": "stream",
          "text": [
            "<class 'int'>\n"
          ],
          "name": "stdout"
        }
      ]
    },
    {
      "cell_type": "markdown",
      "metadata": {
        "id": "OjVYSA3T89Pj"
      },
      "source": [
        "type은 자료형을 나타내는 함수\r\n",
        "\r\n",
        "int는 정수 자료형을 나타낸다."
      ]
    },
    {
      "cell_type": "code",
      "metadata": {
        "id": "txxnoqJuRheJ",
        "colab": {
          "base_uri": "https://localhost:8080/"
        },
        "outputId": "b65c1aab-71c5-4af1-9291-36a8da0ea3aa"
      },
      "source": [
        "a = 3; a = float(a); print(type(a))"
      ],
      "execution_count": null,
      "outputs": [
        {
          "output_type": "stream",
          "text": [
            "<class 'float'>\n"
          ],
          "name": "stdout"
        }
      ]
    },
    {
      "cell_type": "markdown",
      "metadata": {
        "id": "hGywE5gG9FPz"
      },
      "source": [
        "float은 실수 자료형을 나타낸다.\r\n",
        "\r\n",
        "자료형 함수를 통해 자료형을 변경한 값을 변수에 할당할 수 있다."
      ]
    },
    {
      "cell_type": "code",
      "metadata": {
        "id": "By9UCBctRheK",
        "colab": {
          "base_uri": "https://localhost:8080/"
        },
        "outputId": "3ccbb284-f6fa-4656-a8be-9bfdc65b5242"
      },
      "source": [
        "a = 3.2; a = int(a); print(type(a))"
      ],
      "execution_count": null,
      "outputs": [
        {
          "output_type": "stream",
          "text": [
            "<class 'int'>\n"
          ],
          "name": "stdout"
        }
      ]
    },
    {
      "cell_type": "code",
      "metadata": {
        "id": "SyP0PB86RheL",
        "colab": {
          "base_uri": "https://localhost:8080/"
        },
        "outputId": "b54fb909-eb41-49cb-9cb9-ded620b31215"
      },
      "source": [
        "a = '321'; print(type(a)); print(a[1])"
      ],
      "execution_count": null,
      "outputs": [
        {
          "output_type": "stream",
          "text": [
            "<class 'str'>\n",
            "2\n"
          ],
          "name": "stdout"
        }
      ]
    },
    {
      "cell_type": "markdown",
      "metadata": {
        "id": "zMyxuIeD9Ri0"
      },
      "source": [
        "str은 문자열 자료형을 나타낸다."
      ]
    },
    {
      "cell_type": "code",
      "metadata": {
        "id": "byDy9oFERheL",
        "colab": {
          "base_uri": "https://localhost:8080/"
        },
        "outputId": "16006ce2-500c-495a-8892-e0e8f2bf173a"
      },
      "source": [
        "a = '321'; a = list(a); print(type(a)); print(a); print(a[2])"
      ],
      "execution_count": null,
      "outputs": [
        {
          "output_type": "stream",
          "text": [
            "<class 'list'>\n",
            "['3', '2', '1']\n",
            "1\n"
          ],
          "name": "stdout"
        }
      ]
    },
    {
      "cell_type": "markdown",
      "metadata": {
        "id": "54f-iC4q9T7F"
      },
      "source": [
        "list는 리스트 자료형을 나타낸다."
      ]
    },
    {
      "cell_type": "code",
      "metadata": {
        "id": "DfS-gknCRheL",
        "colab": {
          "base_uri": "https://localhost:8080/"
        },
        "outputId": "8096a28f-8b2e-4235-e2bc-24a1766c8552"
      },
      "source": [
        "a = [4,'3', [2, '1']]; print(type(a)); print(a[0]); print(a[1]); print(a[2])"
      ],
      "execution_count": null,
      "outputs": [
        {
          "output_type": "stream",
          "text": [
            "<class 'list'>\n",
            "4\n",
            "3\n",
            "[2, '1']\n"
          ],
          "name": "stdout"
        }
      ]
    },
    {
      "cell_type": "markdown",
      "metadata": {
        "id": "tavsVpri9WKO"
      },
      "source": [
        "리스트 내부에 원소로 리스트를 넣을 수 있다."
      ]
    },
    {
      "cell_type": "code",
      "metadata": {
        "id": "wuUZdEnyRheM",
        "colab": {
          "base_uri": "https://localhost:8080/"
        },
        "outputId": "a090df80-f363-449c-d0d2-792adaf49a04"
      },
      "source": [
        "a = (4,'3', [2, '1']); print(type(a)); print(a[0]); print(a[1]); print(a[2])"
      ],
      "execution_count": null,
      "outputs": [
        {
          "output_type": "stream",
          "text": [
            "<class 'tuple'>\n",
            "4\n",
            "3\n",
            "[2, '1']\n"
          ],
          "name": "stdout"
        }
      ]
    },
    {
      "cell_type": "markdown",
      "metadata": {
        "id": "UNF5yOwB9a37"
      },
      "source": [
        "튜플은 리스트와 매우 유사한 자료형이지만 내용 변경이 불가능하여 보안에 도움이 된다는 점이 다르다."
      ]
    },
    {
      "cell_type": "code",
      "metadata": {
        "id": "2sivfloGRheM",
        "colab": {
          "base_uri": "https://localhost:8080/"
        },
        "outputId": "575c8dd3-49ff-48a2-8911-6fdcb6cfe98f"
      },
      "source": [
        "a =\t{\"a\": \"apple\", \"b\": \"bread\", \"c\": 2021}\n",
        "print(type(a))\n",
        "print(a[\"b\"])"
      ],
      "execution_count": null,
      "outputs": [
        {
          "output_type": "stream",
          "text": [
            "<class 'dict'>\n",
            "bread\n"
          ],
          "name": "stdout"
        }
      ]
    },
    {
      "cell_type": "markdown",
      "metadata": {
        "id": "HtS6a6V49j8d"
      },
      "source": [
        "dict는 사전 자료형을 말하며, 사전 자료형은 key와 value로 구성된다.\r\n",
        "\r\n",
        "사전 자료형에서 사전이름[key]를 입력하면 value를 출력할 수 있다."
      ]
    },
    {
      "cell_type": "code",
      "metadata": {
        "id": "A7teRXuCRheN",
        "colab": {
          "base_uri": "https://localhost:8080/"
        },
        "outputId": "86eb1bf7-b072-4f19-c2e9-329470027716"
      },
      "source": [
        "a=[(1,2,3), (4,5,6.2)]\n",
        "print(type(a))\n",
        "a"
      ],
      "execution_count": null,
      "outputs": [
        {
          "output_type": "stream",
          "text": [
            "<class 'list'>\n"
          ],
          "name": "stdout"
        },
        {
          "output_type": "execute_result",
          "data": {
            "text/plain": [
              "[(1, 2, 3), (4, 5, 6.2)]"
            ]
          },
          "metadata": {
            "tags": []
          },
          "execution_count": 14
        }
      ]
    }
  ]
}