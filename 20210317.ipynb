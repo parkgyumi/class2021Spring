{
  "nbformat": 4,
  "nbformat_minor": 0,
  "metadata": {
    "colab": {
      "name": "Untitled6.ipynb",
      "provenance": [],
      "collapsed_sections": [],
      "authorship_tag": "ABX9TyPctBRHP/Jl/+23LvDBZcVh",
      "include_colab_link": true
    },
    "kernelspec": {
      "name": "python3",
      "display_name": "Python 3"
    }
  },
  "cells": [
    {
      "cell_type": "markdown",
      "metadata": {
        "id": "view-in-github",
        "colab_type": "text"
      },
      "source": [
        "<a href=\"https://colab.research.google.com/github/parkgyumi/class2021Spring/blob/main/20210317.ipynb\" target=\"_parent\"><img src=\"https://colab.research.google.com/assets/colab-badge.svg\" alt=\"Open In Colab\"/></a>"
      ]
    },
    {
      "cell_type": "code",
      "metadata": {
        "colab": {
          "base_uri": "https://localhost:8080/"
        },
        "id": "6Uw8umWkuW5l",
        "outputId": "87f79a89-7285-4ff4-b3b9-1aeac666b27e"
      },
      "source": [
        "a = [10, 20, 30, 40, 50]\r\n",
        "for i in a:\r\n",
        "  for j in a:\r\n",
        "    if j >= 35:\r\n",
        "      print(i*j)"
      ],
      "execution_count": 8,
      "outputs": [
        {
          "output_type": "stream",
          "text": [
            "400\n",
            "500\n",
            "800\n",
            "1000\n",
            "1200\n",
            "1500\n",
            "1600\n",
            "2000\n",
            "2000\n",
            "2500\n"
          ],
          "name": "stdout"
        }
      ]
    },
    {
      "cell_type": "code",
      "metadata": {
        "colab": {
          "base_uri": "https://localhost:8080/"
        },
        "id": "9GTN1MXtvfp7",
        "outputId": "b1d59d3f-eafd-44cc-e848-20c28e3e85cd"
      },
      "source": [
        "a = ['123', '45678', '900000', 'apple', 'banana', 'carrot']\r\n",
        "b = [[type(i), i[:3]] for i in a if len(i)>5]\r\n",
        "b"
      ],
      "execution_count": 14,
      "outputs": [
        {
          "output_type": "execute_result",
          "data": {
            "text/plain": [
              "[[str, '900'], [str, 'ban'], [str, 'car']]"
            ]
          },
          "metadata": {
            "tags": []
          },
          "execution_count": 14
        }
      ]
    }
  ]
}