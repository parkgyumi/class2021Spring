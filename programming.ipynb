{
  "nbformat": 4,
  "nbformat_minor": 0,
  "metadata": {
    "colab": {
      "name": "Untitled1.ipynb",
      "provenance": [],
      "authorship_tag": "ABX9TyM1K4ANEuJfvLnxhu6qWl2s",
      "include_colab_link": true
    },
    "kernelspec": {
      "name": "python3",
      "display_name": "Python 3"
    }
  },
  "cells": [
    {
      "cell_type": "markdown",
      "metadata": {
        "id": "view-in-github",
        "colab_type": "text"
      },
      "source": [
        "<a href=\"https://colab.research.google.com/github/parkgyumi/class2021Spring/blob/main/programming.ipynb\" target=\"_parent\"><img src=\"https://colab.research.google.com/assets/colab-badge.svg\" alt=\"Open In Colab\"/></a>"
      ]
    },
    {
      "cell_type": "code",
      "metadata": {
        "id": "Cu3_qJrXo5f9"
      },
      "source": [
        ""
      ],
      "execution_count": null,
      "outputs": []
    },
    {
      "cell_type": "markdown",
      "metadata": {
        "id": "-lwvCchYpBVf"
      },
      "source": [
        "## 변수(Variable)\r\n",
        "인간의 언어 중 단어에 해당\r\n",
        "a = 1 에서 a가 변수에 해당\r\n",
        "= 을 사용해서 의미를 할당할 수 있다.\r\n",
        "\r\n",
        "## 제어문\r\n",
        "인간의 언어 중 문법에 해당\r\n",
        "제어문에는 반복과 조건이 있다.\r\n",
        "반복은 for을 사용하며, 동일한 작업을 여러 번 반복 수행할 때 사용한다.\r\n",
        "조건은 if를 사용하며, 지정한 조건을 만족할 때 작업을 수행한다.\r\n",
        "\r\n",
        "## 함수\r\n",
        "함수는 입력과 출력간의 관계를 지정하는 것을 말한다.\r\n",
        "가장 간단한 함수는 일차함수로 ax+b의 꼴이다.\r\n",
        "함수를 만들어 사용하는 방법은 다음과 같다.\r\n",
        "function 함수이름(변수, 변수, ...)\r\n",
        "         관계식\r\n",
        "         출력값\r\n",
        "함수를 사용하면 복잡한 계산을 단순한 코드로 표현할 수 있어 매우 편리하다.\r\n",
        "인공지능 역시 많은 함수로 구성되어 있다."
      ]
    },
    {
      "cell_type": "code",
      "metadata": {
        "id": "0V6MLf9_pfgn"
      },
      "source": [
        ""
      ],
      "execution_count": null,
      "outputs": []
    }
  ]
}